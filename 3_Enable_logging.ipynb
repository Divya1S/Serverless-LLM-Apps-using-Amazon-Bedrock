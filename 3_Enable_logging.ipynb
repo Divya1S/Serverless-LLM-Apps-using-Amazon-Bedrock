{
 "cells": [
  {
   "cell_type": "markdown",
   "id": "cc6b7b9f-a75d-4b78-930f-26d2343ac2c2",
   "metadata": {},
   "source": [
    "# Enable Logging"
   ]
  },
  {
   "cell_type": "markdown",
   "id": "06fc5839-0b4b-42a3-9aaf-99a97e347955",
   "metadata": {},
   "source": [
    "### Import all needed packages"
   ]
  },
  {
   "cell_type": "code",
   "execution_count": 1,
   "id": "63cf31e4",
   "metadata": {
    "height": 113
   },
   "outputs": [],
   "source": [
    "import boto3\n",
    "import json\n",
    "import os\n",
    "\n",
    "bedrock = boto3.client('bedrock', region_name=\"us-west-2\")"
   ]
  },
  {
   "cell_type": "code",
   "execution_count": 2,
   "id": "e5d9e31b",
   "metadata": {
    "height": 62
   },
   "outputs": [],
   "source": [
    "from helpers.CloudWatchHelper import CloudWatch_Helper\n",
    "cloudwatch = CloudWatch_Helper()"
   ]
  },
  {
   "cell_type": "code",
   "execution_count": 3,
   "id": "87a30e7e",
   "metadata": {
    "height": 30
   },
   "outputs": [],
   "source": [
    "log_group_name = '/my/amazon/bedrock/logs'"
   ]
  },
  {
   "cell_type": "code",
   "execution_count": 4,
   "id": "2461a51c",
   "metadata": {
    "height": 30
   },
   "outputs": [
    {
     "name": "stdout",
     "output_type": "stream",
     "text": [
      "Log group '/my/amazon/bedrock/logs' created successfully.\n"
     ]
    }
   ],
   "source": [
    "cloudwatch.create_log_group(log_group_name)"
   ]
  },
  {
   "cell_type": "code",
   "execution_count": 5,
   "id": "0afe5997",
   "metadata": {
    "height": 283
   },
   "outputs": [],
   "source": [
    "loggingConfig = {\n",
    "    'cloudWatchConfig': {\n",
    "        'logGroupName': log_group_name,\n",
    "        'roleArn': os.environ['LOGGINGROLEARN'],\n",
    "        'largeDataDeliveryS3Config': {\n",
    "            'bucketName': os.environ['LOGGINGBUCKETNAME'],\n",
    "            'keyPrefix': 'amazon_bedrock_large_data_delivery',\n",
    "        }\n",
    "    },\n",
    "    's3Config': {\n",
    "        'bucketName': os.environ['LOGGINGBUCKETNAME'],\n",
    "        'keyPrefix': 'amazon_bedrock_logs',\n",
    "    },\n",
    "    'textDataDeliveryEnabled': True,\n",
    "}"
   ]
  },
  {
   "cell_type": "code",
   "execution_count": 6,
   "id": "2ca33ffe",
   "metadata": {
    "height": 45
   },
   "outputs": [
    {
     "data": {
      "text/plain": [
       "{'ResponseMetadata': {'RequestId': 'b15be6a1-07c8-411c-a80a-2945a84a029e',\n",
       "  'HTTPStatusCode': 200,\n",
       "  'HTTPHeaders': {'date': 'Sat, 31 May 2025 00:25:39 GMT',\n",
       "   'content-type': 'application/json',\n",
       "   'content-length': '2',\n",
       "   'connection': 'keep-alive',\n",
       "   'x-amzn-requestid': 'b15be6a1-07c8-411c-a80a-2945a84a029e'},\n",
       "  'RetryAttempts': 0}}"
      ]
     },
     "execution_count": 6,
     "metadata": {},
     "output_type": "execute_result"
    }
   ],
   "source": [
    "bedrock.put_model_invocation_logging_configuration(loggingConfig=loggingConfig)"
   ]
  },
  {
   "cell_type": "code",
   "execution_count": 7,
   "id": "41fdb20d",
   "metadata": {
    "height": 30
   },
   "outputs": [
    {
     "data": {
      "text/plain": [
       "{'ResponseMetadata': {'RequestId': '26dfef0a-706b-44fb-863c-ec7b6cc4d876',\n",
       "  'HTTPStatusCode': 200,\n",
       "  'HTTPHeaders': {'date': 'Sat, 31 May 2025 00:25:44 GMT',\n",
       "   'content-type': 'application/json',\n",
       "   'content-length': '604',\n",
       "   'connection': 'keep-alive',\n",
       "   'x-amzn-requestid': '26dfef0a-706b-44fb-863c-ec7b6cc4d876'},\n",
       "  'RetryAttempts': 0},\n",
       " 'loggingConfig': {'cloudWatchConfig': {'logGroupName': '/my/amazon/bedrock/logs',\n",
       "   'roleArn': 'arn:aws:iam::236431997355:role/c99355a2566044l10468241t1w2364319973-LoggingIAMRole-8EVNcNhWbF4n',\n",
       "   'largeDataDeliveryS3Config': {'bucketName': 'c99355a2566044l10468241t1w23643199-loggings3bucket-gbtqsnwd8aqc',\n",
       "    'keyPrefix': 'amazon_bedrock_large_data_delivery'}},\n",
       "  's3Config': {'bucketName': 'c99355a2566044l10468241t1w23643199-loggings3bucket-gbtqsnwd8aqc',\n",
       "   'keyPrefix': 'amazon_bedrock_logs'},\n",
       "  'textDataDeliveryEnabled': True,\n",
       "  'imageDataDeliveryEnabled': True,\n",
       "  'embeddingDataDeliveryEnabled': True}}"
      ]
     },
     "execution_count": 7,
     "metadata": {},
     "output_type": "execute_result"
    }
   ],
   "source": [
    "bedrock.get_model_invocation_logging_configuration()"
   ]
  },
  {
   "cell_type": "code",
   "execution_count": 11,
   "id": "95ebecb7",
   "metadata": {
    "height": 45
   },
   "outputs": [],
   "source": [
    "bedrock_runtime = boto3.client('bedrock-runtime', region_name=\"us-west-2\")"
   ]
  },
  {
   "cell_type": "code",
   "execution_count": 16,
   "id": "402c6311",
   "metadata": {
    "height": 436
   },
   "outputs": [
    {
     "name": "stdout",
     "output_type": "stream",
     "text": [
      "\n",
      "Moonpie is a fictional character in the popular children's book series \"Where the Wild Things Are\" by Maurice Sendak. He is a wild creature who lives on a distant island and is visited by a young girl named Max.\n",
      "\n",
      "Moonpie is a large and imposing figure with a large, bushy tail and sharp claws. He has a wide mouth and bright, yellow eyes that seem to glow in the dark. Moonpie is a powerful creature who can create storms and control the weather. He is also a skilled hunter and can catch fish and other animals with ease.\n",
      "\n",
      "Max is a young girl who lives in a small town with her parents. She is a curious and adventurous girl who loves to explore the world around her. One day, while playing in her backyard, she discovers a small boat that has washed up on the shore. Inside the boat, she finds a note that reads, \"Come to the island of the Wild Things.\"\n",
      "\n",
      "Max decides to set out on a journey to the island, hoping to find the Wild Things that the note mentioned. Along the way, she encounters a variety of strange and dangerous creatures, including a giant bird, a giant fish, and a giant snake.\n",
      "\n",
      "When Max finally arrives on the island, she finds Moonpie and his fellow Wild Things. Moonpie is initially angry and hostile, but he soon realizes that Max is not a threat and begins to warm up to her. The Wild Things take Max on a wild ride through the island, showing her their various powers and abilities.\n",
      "\n",
      "However, Max soon begins to miss her family and her home. She decides to leave the island and return home. Moonpie is saddened by her departure and tries to convince her to stay, but Max refuses.\n",
      "\n",
      "When Max returns home, she finds that her parents have been searching for her. They are overjoyed to see her and embrace her tightly. Max tells them about her journey to the island and the Wild Things that she met.\n",
      "\n",
      "Moonpie is mentioned in several other books by Maurice Sendak, including \"Where the Wild Things Are: The Musical\" and \"Where the Wild Things Are: The Movie.\" In these adaptations, Moonpie is portrayed by a variety of actors, including James Earl Jones and Jeff Bridges.\n",
      "\n",
      "Moonpie has become a popular and iconic character in children's literature. He has been used to teach children about the power of imagination, the dangers of wandering too far from home, and the importance of family. Moonpie's story has also been\n"
     ]
    }
   ],
   "source": [
    "prompt = \"Write an article about the fictional character Moonpie.\"\n",
    "\n",
    "kwargs = {\n",
    "    \"modelId\": \"amazon.titan-text-express-v1\",\n",
    "    \"contentType\": \"application/json\",\n",
    "    \"accept\": \"*/*\",\n",
    "    \"body\": json.dumps(\n",
    "        {\n",
    "            \"inputText\": prompt,\n",
    "            \"textGenerationConfig\": {\n",
    "                \"maxTokenCount\": 512,\n",
    "                \"temperature\": 0.7,\n",
    "                \"topP\": 0.9\n",
    "            }\n",
    "        }\n",
    "    )\n",
    "}\n",
    "\n",
    "response = bedrock_runtime.invoke_model(**kwargs)\n",
    "response_body = json.loads(response.get('body').read())\n",
    "\n",
    "generation = response_body['results'][0]['outputText']\n",
    "\n",
    "print(generation)"
   ]
  },
  {
   "cell_type": "code",
   "execution_count": 17,
   "id": "68a7bab7",
   "metadata": {
    "height": 30
   },
   "outputs": [
    {
     "name": "stdout",
     "output_type": "stream",
     "text": [
      "Permissions are correctly set for Amazon Bedrock logs.\n",
      "-------------------------\n",
      "\n",
      "{\n",
      "    \"schemaType\": \"ModelInvocationLog\",\n",
      "    \"schemaVersion\": \"1.0\",\n",
      "    \"timestamp\": \"2025-05-31T00:26:11Z\",\n",
      "    \"accountId\": \"236431997355\",\n",
      "    \"identity\": {\n",
      "        \"arn\": \"arn:aws:sts::236431997355:assumed-role/voclabs/user4123683=eyJhbGciOiJIUzI1NiIsInR5cCI6IkpXVCJ9.eyJpc3MiOiJhcHA\"\n",
      "    },\n",
      "    \"region\": \"us-west-2\",\n",
      "    \"requestId\": \"d9d532d3-c348-4684-92b9-312ae15e26a1\",\n",
      "    \"operation\": \"InvokeModel\",\n",
      "    \"modelId\": \"amazon.titan-text-express-v1\",\n",
      "    \"input\": {\n",
      "        \"inputContentType\": \"application/json\",\n",
      "        \"inputBodyJson\": {\n",
      "            \"inputText\": \"Write an article about the fictional planet Foobar.\",\n",
      "            \"textGenerationConfig\": {\n",
      "                \"maxTokenCount\": 512,\n",
      "                \"temperature\": 0.7,\n",
      "                \"topP\": 0.9\n",
      "            }\n",
      "        },\n",
      "        \"inputTokenCount\": 10\n",
      "    },\n",
      "    \"output\": {\n",
      "        \"outputContentType\": \"application/json\",\n",
      "        \"outputBodyJson\": {\n",
      "            \"inputTextTokenCount\": 10,\n",
      "            \"results\": [\n",
      "                {\n",
      "                    \"tokenCount\": 512,\n",
      "                    \"outputText\": \"\\nFoobar is a fictional planet that has been created by a group of scientists and writers. The planet is a unique blend of science fiction and fantasy, and it has a rich and complex history.\\n\\nOne of the most notable features of Foobar is its geography. The planet is shaped like a giant ring, with a central core surrounded by a series of rings that are connected by narrow bridges. The rings are made up of a variety of materials, including metal, glass, and stone, and they vary in size and shape. The central core is a vast desert that is home to a variety of dangerous creatures, including giant spiders, scorpions, and dragons.\\n\\nFoobar's climate is also unique. The planet is constantly bathed in sunlight, but the temperature can vary greatly depending on the location. The central desert is scorching hot, while the rings can be freezing cold. There are also many rainforests and other natural habitats on the planet, which are home to a variety of plants and animals.\\n\\nThe history of Foobar is also rich and complex. The planet was first discovered by a group of scientists in the early 20th century, and it was quickly colonized by humans. However, the colonization was not without its challenges. The planet's harsh climate and dangerous creatures made it difficult for humans to survive, and many of the colonists died within a few years of arriving.\\n\\nDespite these challenges, Foobar has continued to grow and thrive. The planet has become a hub for scientific research and exploration, and it has a thriving economy. There are many industries on the planet, including mining, manufacturing, and agriculture.\\n\\nOne of the most interesting aspects of Foobar's history is its relationship with other planets. Foobar has been visited by many other species, including aliens, and it has had a significant impact on their cultures and societies. For example, the aliens that visited Foobar in the early 20th century brought with them new technologies and ideas, which have helped to shape the planet's economy and society.\\n\\nFoobar has also been the setting for many stories and novels. Some of the most popular stories include \\\"The Lord of the Rings\\\" by J.R.R. Tolkien, \\\"Star Wars\\\" by George Lucas, and \\\"Dune\\\" by Frank Herbert. These stories have helped to make Foobar a well-known and beloved fictional planet.\\n\\nDespite its many challenges, Foobar remains a fascinating and exciting place to visit. The planet\",\n",
      "                    \"completionReason\": \"LENGTH\"\n",
      "                }\n",
      "            ]\n",
      "        },\n",
      "        \"outputTokenCount\": 512\n",
      "    }\n",
      "}\n",
      "-------------------------\n",
      "\n",
      "{\n",
      "    \"schemaType\": \"ModelInvocationLog\",\n",
      "    \"schemaVersion\": \"1.0\",\n",
      "    \"timestamp\": \"2025-05-31T00:27:54Z\",\n",
      "    \"accountId\": \"236431997355\",\n",
      "    \"identity\": {\n",
      "        \"arn\": \"arn:aws:sts::236431997355:assumed-role/voclabs/user4123683=eyJhbGciOiJIUzI1NiIsInR5cCI6IkpXVCJ9.eyJpc3MiOiJhcHA\"\n",
      "    },\n",
      "    \"region\": \"us-west-2\",\n",
      "    \"requestId\": \"0fc946fe-9cce-4246-ab05-3fe3e0a3f487\",\n",
      "    \"operation\": \"InvokeModel\",\n",
      "    \"modelId\": \"amazon.titan-text-express-v1\",\n",
      "    \"input\": {\n",
      "        \"inputContentType\": \"application/json\",\n",
      "        \"inputBodyJson\": {\n",
      "            \"inputText\": \"Write an article about the fictional character Moonpie.\",\n",
      "            \"textGenerationConfig\": {\n",
      "                \"maxTokenCount\": 512,\n",
      "                \"temperature\": 0.7,\n",
      "                \"topP\": 0.9\n",
      "            }\n",
      "        },\n",
      "        \"inputTokenCount\": 10\n",
      "    },\n",
      "    \"output\": {\n",
      "        \"outputContentType\": \"application/json\",\n",
      "        \"outputBodyJson\": {\n",
      "            \"inputTextTokenCount\": 10,\n",
      "            \"results\": [\n",
      "                {\n",
      "                    \"tokenCount\": 512,\n",
      "                    \"outputText\": \"\\nMoonpie is a fictional character in the popular children's book series \\\"Where the Wild Things Are\\\" by Maurice Sendak. He is a wild creature who lives on a distant island and is visited by a young girl named Max.\\n\\nMoonpie is a large and imposing figure with a large, bushy tail and sharp claws. He has a wide mouth and bright, yellow eyes that seem to glow in the dark. Moonpie is a powerful creature who can create storms and control the weather. He is also a skilled hunter and can catch fish and other animals with ease.\\n\\nMax is a young girl who lives in a small town with her parents. She is a curious and adventurous girl who loves to explore the world around her. One day, while playing in her backyard, she discovers a small boat that has washed up on the shore. Inside the boat, she finds a note that reads, \\\"Come to the island of the Wild Things.\\\"\\n\\nMax decides to set out on a journey to the island, hoping to find the Wild Things that the note mentioned. Along the way, she encounters a variety of strange and dangerous creatures, including a giant bird, a giant fish, and a giant snake.\\n\\nWhen Max finally arrives on the island, she finds Moonpie and his fellow Wild Things. Moonpie is initially angry and hostile, but he soon realizes that Max is not a threat and begins to warm up to her. The Wild Things take Max on a wild ride through the island, showing her their various powers and abilities.\\n\\nHowever, Max soon begins to miss her family and her home. She decides to leave the island and return home. Moonpie is saddened by her departure and tries to convince her to stay, but Max refuses.\\n\\nWhen Max returns home, she finds that her parents have been searching for her. They are overjoyed to see her and embrace her tightly. Max tells them about her journey to the island and the Wild Things that she met.\\n\\nMoonpie is mentioned in several other books by Maurice Sendak, including \\\"Where the Wild Things Are: The Musical\\\" and \\\"Where the Wild Things Are: The Movie.\\\" In these adaptations, Moonpie is portrayed by a variety of actors, including James Earl Jones and Jeff Bridges.\\n\\nMoonpie has become a popular and iconic character in children's literature. He has been used to teach children about the power of imagination, the dangers of wandering too far from home, and the importance of family. Moonpie's story has also been\",\n",
      "                    \"completionReason\": \"LENGTH\"\n",
      "                }\n",
      "            ]\n",
      "        },\n",
      "        \"outputTokenCount\": 512\n",
      "    }\n",
      "}\n",
      "-------------------------\n",
      "\n"
     ]
    }
   ],
   "source": [
    "cloudwatch.print_recent_logs(log_group_name)"
   ]
  },
  {
   "cell_type": "markdown",
   "id": "1118acfb",
   "metadata": {},
   "source": [
    "To review the logs within the AWS console, please use the following link to reference the steps outlined in the video:"
   ]
  },
  {
   "cell_type": "code",
   "execution_count": 20,
   "id": "2cf443d2",
   "metadata": {
    "height": 47
   },
   "outputs": [],
   "source": [
    "from IPython.display import HTML\n",
    "aws_url = os.environ['AWS_CONSOLE_URL']"
   ]
  },
  {
   "cell_type": "code",
   "execution_count": 21,
   "id": "0b7c904c",
   "metadata": {
    "height": 62
   },
   "outputs": [
    {
     "data": {
      "text/html": [
       "<a href=\"https://signin.aws.amazon.com/federation?Action=login&SigninToken=SMd3k61gF69BH15CxsimA3fYSkmQhaQAxatzuOWbGIPh1QzwiDUD2ayo8E-EjtLxZFtf_TCh9suM3QbnK5Y5VTZXU14nHXdWjT3WUys5qmq0IGg-0BADd6dz1lav9QgwK3T4hnO8zCyZY2inkzD92KIog72Cpp7DId3uELBe6LP1BtqCK48ZRXpxXqTIKsQcHDeC8xwYdQLBUOZgKGcJTz40WSNHFNV5IltxLIsrrVWXLfqY97ECK7xmHUr9WyJYX4dJYrniF3orkNxBTqqJxcqspJa8dxIr5iq1xiNSMOEEI6ojCP-DDq7v2AEd_je7mTSAcGxAqwVdJ9gbvrrxOHkaXGWTl1CBumaNor3saGVIZ4_6xlAlQ-my5Ixnf8eyuiMgh8C8pbzAJveLmTH2LqB_VQKi7BA4jjdXydvbAs5B39X_kwK0_fk2Ym34K2eh-NTlcO4uKe0BstlxrJBuDuRsUXP49sg6_NbLcXxQBI_1kIJU6J4TK-CXkN-Oi8OTS6cyJL_7gIRZ4Q7j-bWXrM_NwGjem_e3XYYkmaX3OOMrWkP9-p8Tkeh-O9BSOv45s-pgEtSOnAsjeesJuAODUT4VlOvm2f-4n-wqqmwgHNn2873aAnFBH7C-OUEfiavni7K07Wte6oFsw4wFvxrDpPzebxwmreoLuloWFb5MK_qTYe1eBW3ECff-IwtDEXbRSu2_-9hZULEd4gQ7cZCA5yOcdeacPnc4PJG3c4ZEYy6wUvGHeJp5A2r2LeVSKNuHNnHOYlu4UYIC9rZUU7201qkg_V7JGBTXiUfDlSdGHhuRiVa_2t18L04ISAUNRvMfpq_EKirmsgOqb-oD1UsxfmRHymTkyBNxztYIA_IFuC225r1qJy_zJjUYB_7VpsrW3ulYVR8iN7ikgV_1cGUXBn_WUIIOQdHIonpEU18Uteq3q1zPRNG8V0aYK9eWtduVa8DJU-jmK-6GRI5Ajua-PGkq5lS_PubBro2WIr02CPsFf_6k3toQcEUXnAiZNYaQUjvxqMrUA9BNcpPymf0csQL4k25dcUrqF5qnY81assMs40Fs1Yu09JuX7fIA-2lJ8x_TQfWWR8ltpr_D-ukk_3cZRZ0_DKIVbczjbn4YwRDjc-m0QXwZnkFyMd3bzMnLeKNBX9lmWsxM0rlGoXkgDvsCA5RQJoXxpghGjH0q-L461274lbp-8wf6ibgM_M0_UGSgsterY7GaQ9z2UwTLzudKV2im5ieBKfh_VkQfX3UGp71BbhgHf33m7uicMzlmQr3sPXwlOLXatxSuKIAMyiSkL8WcTS_r-_lOVl4NW-tt1n87Zp-all0F1BnodQJQA4effZlJ9eaJWzfcw98ofzsHKyLfFXkm7QK8oYAxBJME9qXAnOs2oWMoUqVB0Jn-Q9NA3um6H0gcudNslkN6XigIpTxXC4pYH063PMwHL1lrwsLip3hc8P3gLuo2EePwLPZ41gyTQfHnDlYICZDoKaBWP0RW1g9QS6bQ0vvlp2wAcMt59WqP3sRy3K7pSV3k6Bu8zcQGwEcUR5ZMJHhwxORAwrxowY8&Issuer=https%3A%2F%2Fapi.vocareum.com&Destination=https%3A%2F%2Fconsole.aws.amazon.com%2Fconsole%2Fhome%3Fregion%3Dus-west-2\" target=\"_blank\">GO TO AWS CONSOLE</a>"
      ],
      "text/plain": [
       "<IPython.core.display.HTML object>"
      ]
     },
     "execution_count": 21,
     "metadata": {},
     "output_type": "execute_result"
    }
   ],
   "source": [
    "HTML(f'<a href=\"{aws_url}\" target=\"_blank\">GO TO AWS CONSOLE</a>')\n"
   ]
  }
 ],
 "metadata": {
  "kernelspec": {
   "display_name": "Python 3 (ipykernel)",
   "language": "python",
   "name": "python3"
  },
  "language_info": {
   "codemirror_mode": {
    "name": "ipython",
    "version": 3
   },
   "file_extension": ".py",
   "mimetype": "text/x-python",
   "name": "python",
   "nbconvert_exporter": "python",
   "pygments_lexer": "ipython3",
   "version": "3.11.9"
  }
 },
 "nbformat": 4,
 "nbformat_minor": 5
}
